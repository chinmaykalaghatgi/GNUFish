{
 "cells": [
  {
   "cell_type": "code",
   "execution_count": 1,
   "id": "modified-masters",
   "metadata": {},
   "outputs": [
    {
     "name": "stdout",
     "output_type": "stream",
     "text": [
      "Populating the interactive namespace from numpy and matplotlib\n"
     ]
    }
   ],
   "source": [
    "# This pylab is just to make things easier. Though generally its better to import matplotlib/numpy by themselves\n",
    "%pylab inline\n",
    "\n",
    "# Import LALSuite stuff\n",
    "import lal\n",
    "import lalsimulation as lalsim\n",
    "\n",
    "import warnings\n",
    "warnings.filterwarnings('ignore')\n",
    "\n",
    "# Append path to fisher matrix code\n",
    "import sys\n",
    "sys.path.insert(0,'./fisher_matrix/')\n",
    "\n",
    "# Import fisher stuff\n",
    "import utils as ut\n",
    "import waveform as wfm\n",
    "import fisher as fsh\n",
    "\n",
    "# These imports generally might not be needed. Could be commented out \n",
    "import pycbc as py\n",
    "from pycbc.filter import match\n",
    "import bilby\n",
    "import pandas as pd"
   ]
  },
  {
   "cell_type": "code",
   "execution_count": 2,
   "id": "occasional-metropolitan",
   "metadata": {},
   "outputs": [],
   "source": [
    "# This was a additon I needed to do to get pymultinest to work. Might not be needed for others\n",
    "\n",
    "import os\n",
    "\n",
    "#os.environ['DYLD_LIBRARY_PATH'] = '/Users/chinmay/gits/MultiNest/lib'\n"
   ]
  },
  {
   "cell_type": "code",
   "execution_count": null,
   "id": "fleet-measurement",
   "metadata": {},
   "outputs": [],
   "source": []
  },
  {
   "cell_type": "code",
   "execution_count": 3,
   "id": "numerical-fundamentals",
   "metadata": {},
   "outputs": [],
   "source": [
    "# Set the param_limits dictionary.\n",
    "param_limits = {\n",
    "    \"mchirp\": [0.5, 100.] ,\n",
    "    \"eta\" : [0.01, 0.25] , \n",
    "    \"spin1x\" : [-1, 1.] , \n",
    "    \"spin1y\": [-1, 1.] , \n",
    "    \"spin1z\": [-1, 1.] , \n",
    "    \"spin2x\": [-1, 1.] , \n",
    "    \"spin2y\": [-1, 1.] , \n",
    "    \"spin2z\": [-1, 1.] , \n",
    "    \"inc\": [-np.pi, np.pi], \n",
    "    \"ra\": [0, 2*np.pi], \n",
    "    \"dec\": [-np.pi, np.pi], \n",
    "    \"distance\": [0., 1e7*1e6], \n",
    "    \"phi0\" : [0., 2*np.pi], \n",
    "    \"psi\" : [0., 2*np.pi], \n",
    "    \"tgps\" : [0., 1e12],\n",
    "    \"tcoal\" : [0., 1e12]}\n",
    "\n",
    "\n"
   ]
  },
  {
   "cell_type": "code",
   "execution_count": null,
   "id": "continuous-proposition",
   "metadata": {},
   "outputs": [],
   "source": []
  },
  {
   "cell_type": "code",
   "execution_count": 4,
   "id": "super-behavior",
   "metadata": {},
   "outputs": [],
   "source": [
    "# This will be the dictionary of input parameters. Can be anything you want. \n",
    "paramsdic = {'mchirp': 2.2,\n",
    " 'eta': 0.22,\n",
    " 'spin1x': 0.0,\n",
    " 'spin1y': 0.0,\n",
    " 'spin1z': 0.1,\n",
    " 'spin2x': 0.0,\n",
    " 'spin2y': 0.0,\n",
    " 'spin2z': 0.1,\n",
    " 'inc': 0.4,\n",
    " 'ra': 0.8,\n",
    " 'dec': 0.2,\n",
    " 'distance': 100.0,\n",
    " 'phi0': 1.0,\n",
    " 'fref': 5.0,\n",
    " 'flow': 5.0,\n",
    " 'fhigh': 1024.0,\n",
    " 'psi': 0.0,\n",
    " 'tgps': 1126259462.0,\n",
    " 'df': 0.5,\n",
    " 'tcoal': 0.2}"
   ]
  },
  {
   "cell_type": "code",
   "execution_count": null,
   "id": "played-editor",
   "metadata": {},
   "outputs": [],
   "source": []
  },
  {
   "cell_type": "code",
   "execution_count": 5,
   "id": "unusual-acquisition",
   "metadata": {},
   "outputs": [],
   "source": [
    "# Define parameters required for fisher computation\n",
    "\n",
    "\n",
    "params_met = [\"mchirp\", \"eta\", \"spin1z\", \"spin2z\", \"ra\", \"dec\", \"distance\", \"phi0\", \"inc\", \"tgps\",  \"tcoal\"]"
   ]
  },
  {
   "cell_type": "code",
   "execution_count": 6,
   "id": "romance-representation",
   "metadata": {},
   "outputs": [],
   "source": [
    "approx='IMRPhenomXPHM'\n",
    "\n",
    "# Define fisher matrix individually for each detector\n",
    "met_h1 = fsh.FisherMatrix_SingleIFO(paramsdic, params_met, param_limits, 'H1', approx)\n",
    "met_l1 = fsh.FisherMatrix_SingleIFO(paramsdic, params_met, param_limits, 'L1', approx)\n",
    "met_v1 = fsh.FisherMatrix_SingleIFO(paramsdic, params_met, param_limits, 'V1', approx)\n"
   ]
  },
  {
   "cell_type": "code",
   "execution_count": 7,
   "id": "threaded-atlantic",
   "metadata": {},
   "outputs": [],
   "source": [
    "fish_full = met_h1._fisher_matrix(paramsdic, params_met) + met_l1._fisher_matrix(paramsdic, params_met) + met_v1._fisher_matrix(paramsdic, params_met) "
   ]
  },
  {
   "cell_type": "code",
   "execution_count": 8,
   "id": "addressed-spain",
   "metadata": {},
   "outputs": [],
   "source": [
    "#cov_mat = inv(fish_full)\n",
    "\n",
    "cov_mat = pinv(fish_full, rcond=1e-60)"
   ]
  },
  {
   "cell_type": "code",
   "execution_count": 10,
   "id": "respective-scientist",
   "metadata": {},
   "outputs": [
    {
     "data": {
      "text/plain": [
       "array([[ 1.00000000e+00, -2.42284500e-11, -1.89387220e-11,\n",
       "        -4.33698390e-12, -5.85931680e-13, -4.53206274e-14,\n",
       "         4.02050030e-16,  3.14117637e-15,  5.02774023e-15,\n",
       "         1.84301795e-17, -5.06397728e-12],\n",
       "       [-3.62283874e-12,  1.00000000e+00,  7.28815249e-14,\n",
       "         2.25756040e-14,  6.75000867e-16, -8.36234503e-17,\n",
       "        -1.11803343e-18, -4.08632454e-17, -1.07587666e-17,\n",
       "         2.08663992e-19, -1.14322821e-13],\n",
       "       [-1.83683279e-06,  6.04014056e-08,  1.00000004e+00,\n",
       "         6.39896485e-09,  8.53701624e-10,  8.42998543e-10,\n",
       "        -5.54724702e-13,  3.13156265e-11, -5.17032326e-12,\n",
       "         1.97648159e-13, -2.72864710e-08],\n",
       "       [ 2.65230702e-06, -1.17120231e-07, -5.80036600e-08,\n",
       "         1.00000000e+00,  1.13794183e-09, -4.04510742e-10,\n",
       "         1.31953289e-12,  1.27571890e-10,  1.05901728e-11,\n",
       "        -2.43771801e-13, -4.73688999e-09],\n",
       "       [ 5.88435800e-01, -3.56860291e-03, -7.20276632e-03,\n",
       "        -2.84925052e-03,  1.00003177e+00, -1.40741295e-04,\n",
       "         1.41579197e-07, -2.35867610e-05,  1.85580434e-06,\n",
       "        -1.08422991e-07,  5.78786464e-03],\n",
       "       [-3.70974970e-07,  8.77584812e-09,  5.98811852e-09,\n",
       "         2.39944966e-09, -1.41959877e-10,  1.00000000e+00,\n",
       "        -1.37105649e-13,  3.48035118e-12, -1.72106981e-12,\n",
       "         2.07627152e-14, -1.12377340e-08],\n",
       "       [-1.49633271e-05,  3.96487813e-07,  1.80833602e-07,\n",
       "         3.36091440e-08, -3.14487172e-09,  3.21266970e-09,\n",
       "         1.00000000e+00, -2.57507846e-10, -7.15987852e-11,\n",
       "        -4.08719785e-12,  1.83781499e-07],\n",
       "       [ 1.37743375e-06, -4.15238905e-07, -1.11095212e-07,\n",
       "        -1.60927178e-08, -4.59928339e-09,  1.04325797e-09,\n",
       "         3.69197724e-12,  1.00000000e+00,  1.72364371e-11,\n",
       "         1.02831138e-12,  2.11702589e-07],\n",
       "       [ 2.54959096e-08, -3.52961321e-10, -3.08259534e-10,\n",
       "        -7.14757003e-11, -1.45008528e-11, -1.23332032e-11,\n",
       "         2.15355715e-14,  2.23783330e-12,  1.00000000e+00,\n",
       "         2.16102881e-14, -1.43864595e-09],\n",
       "       [ 2.85043794e+02, -3.57279929e+01, -2.04524969e+01,\n",
       "        -6.82690095e+00, -8.25022775e-01, -4.78703859e-01,\n",
       "         4.38343031e-04, -6.65637098e-02,  3.33193010e-03,\n",
       "         9.99730382e-01,  4.84119131e+01],\n",
       "       [ 9.09494702e-12,  4.92264007e-11,  2.76827450e-11,\n",
       "         1.79625204e-11,  2.69262390e-12,  5.77315973e-14,\n",
       "        -1.38510978e-15, -4.17443857e-14, -1.39074613e-14,\n",
       "        -2.60585094e-16,  1.00000000e+00]])"
      ]
     },
     "execution_count": 10,
     "metadata": {},
     "output_type": "execute_result"
    }
   ],
   "source": [
    "np.dot(cov_mat, fish_full)"
   ]
  },
  {
   "cell_type": "code",
   "execution_count": null,
   "id": "impressive-international",
   "metadata": {},
   "outputs": [],
   "source": []
  },
  {
   "cell_type": "code",
   "execution_count": null,
   "id": "periodic-irrigation",
   "metadata": {},
   "outputs": [],
   "source": []
  },
  {
   "cell_type": "code",
   "execution_count": null,
   "id": "external-jumping",
   "metadata": {},
   "outputs": [],
   "source": []
  },
  {
   "cell_type": "code",
   "execution_count": null,
   "id": "successful-gates",
   "metadata": {},
   "outputs": [],
   "source": []
  },
  {
   "cell_type": "code",
   "execution_count": null,
   "id": "acquired-neighborhood",
   "metadata": {},
   "outputs": [],
   "source": []
  }
 ],
 "metadata": {
  "kernelspec": {
   "display_name": "Python 3",
   "language": "python",
   "name": "python3"
  },
  "language_info": {
   "codemirror_mode": {
    "name": "ipython",
    "version": 3
   },
   "file_extension": ".py",
   "mimetype": "text/x-python",
   "name": "python",
   "nbconvert_exporter": "python",
   "pygments_lexer": "ipython3",
   "version": "3.8.7"
  }
 },
 "nbformat": 4,
 "nbformat_minor": 5
}
